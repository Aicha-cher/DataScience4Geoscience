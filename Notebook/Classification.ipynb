{
 "cells": [
  {
   "cell_type": "markdown",
   "metadata": {},
   "source": [
    "# Classification\n",
    "In this notebook, we will apply several classification algorithms on two data set: *Iris* and *Digits*. The first one is a low dimensional data set while the second one contains more features."
   ]
  },
  {
   "cell_type": "code",
   "execution_count": 1,
   "metadata": {
    "collapsed": false
   },
   "outputs": [
    {
     "name": "stdout",
     "output_type": "stream",
     "text": [
      "(1797, 64)\n"
     ]
    }
   ],
   "source": [
    "from sklearn.datasets import load_digits, load_iris\n",
    "# Load digits\n",
    "X, y = load_digits(return_X_y=True) # load_iris(return_X_y=True)\n",
    "print(X.shape)"
   ]
  },
  {
   "cell_type": "markdown",
   "metadata": {},
   "source": [
    "## Classification pipeline\n",
    "Two steps are required\n",
    "- Model selection, i.e. find the optimal hyperparemeters,\n",
    "- Model assessement, i.e. validate the model on unseen data.\n",
    "\n",
    "As said in introduction, scikit-learn offers convenient and generic functions to achieve these steps. In what follow, an example is given for SVM. But it can be extended for any algorithm in scikit-learn, up to a correct definition of the hyperparameters."
   ]
  },
  {
   "cell_type": "code",
   "execution_count": 2,
   "metadata": {
    "collapsed": false
   },
   "outputs": [],
   "source": [
    "import scipy as sp\n",
    "from sklearn.svm import SVC\n",
    "from sklearn.model_selection import StratifiedKFold, GridSearchCV, train_test_split\n",
    "from sklearn.preprocessing import MinMaxScaler\n",
    "from sklearn.metrics import accuracy_score\n",
    "\n",
    "# Standardize data\n",
    "sc = MinMaxScaler()\n",
    "X = sc.fit_transform(X)\n",
    "\n",
    "# Split the data \n",
    "X_train, X_test, y_train, y_test = train_test_split(X, y, train_size=0.20, random_state=0, stratify=y)"
   ]
  },
  {
   "cell_type": "markdown",
   "metadata": {},
   "source": [
    "With kernel methods (and more generaly for any distance based methods), it is a good practice to standardize feature remove dynamics effect. Here we rescale each feature between 0 and 1."
   ]
  },
  {
   "cell_type": "code",
   "execution_count": 3,
   "metadata": {
    "collapsed": false
   },
   "outputs": [],
   "source": [
    "# Definition of the hyperparameters values search\n",
    "degree = sp.arange(1,7) # Degree of the polynomial kernel\n",
    "C = 10.0**sp.arange(0,4)\n",
    "param_grid_svm = dict(degree=degree, C=C, kernel=['poly'])"
   ]
  },
  {
   "cell_type": "markdown",
   "metadata": {},
   "source": [
    "We use [cross-validation](http://scikit-learn.org/stable/modules/cross_validation.html) strategy to select the optimal set of hyperparameters."
   ]
  },
  {
   "cell_type": "code",
   "execution_count": 4,
   "metadata": {
    "collapsed": false
   },
   "outputs": [
    {
     "name": "stdout",
     "output_type": "stream",
     "text": [
      "Best score: 0.9693593314763231\n",
      "Best set of hyperparameters: {'C': 1000.0, 'degree': 3, 'kernel': 'poly'}\n",
      "0.969401947149\n"
     ]
    }
   ],
   "source": [
    "grid = GridSearchCV(SVC(),  # Set up the classifier\n",
    "                    param_grid=param_grid_svm, \n",
    "                    cv= 5,\n",
    "                    n_jobs=-1) # Do the grid search in parallel\n",
    "grid.fit(X_train, y_train) # Run the grid search\n",
    "print(\"Best score: {}\".format(grid.best_score_))\n",
    "print(\"Best set of hyperparameters: {}\".format(grid.best_params_))\n",
    "print\n",
    "# Learn the optimal model\n",
    "clf = grid.best_estimator_  # Get the best estimator\n",
    "clf.fit(X_train,y_train)\n",
    "\n",
    "# Predict new samples\n",
    "y_pred = clf.predict(X_test)\n",
    "\n",
    "# Compute the overall accuracies\n",
    "print(accuracy_score(y_test,y_pred))"
   ]
  },
  {
   "cell_type": "code",
   "execution_count": 5,
   "metadata": {
    "collapsed": false
   },
   "outputs": [
    {
     "data": {
      "text/plain": [
       "<matplotlib.colorbar.Colorbar at 0x7fb958273400>"
      ]
     },
     "execution_count": 5,
     "metadata": {},
     "output_type": "execute_result"
    },
    {
     "data": {
      "image/png": "[encoded data removed]",
      "text/plain": [
       "<matplotlib.figure.Figure at 0x7fb989a97860>"
      ]
     },
     "metadata": {},
     "output_type": "display_data"
    }
   ],
   "source": [
    "res = grid.cv_results_['mean_test_score'].reshape(C.size,degree.size)\n",
    "%matplotlib inline\n",
    "import matplotlib.pyplot as plt\n",
    "X, Y = sp.meshgrid(degree, C)\n",
    "fig = plt.figure()\n",
    "ax = fig.add_subplot(1,1,1)\n",
    "cp = ax.contourf(X, Y, res)\n",
    "ax.scatter(grid.best_params_['degree'],grid.best_params_['C'],color='k')\n",
    "ax.set_yscale(\"log\")\n",
    "ax.set_xlabel(\"Degree\")\n",
    "ax.set_ylabel(\"C\")\n",
    "fig.colorbar(cp)"
   ]
  },
  {
   "cell_type": "markdown",
   "metadata": {},
   "source": [
    "Now suppose we would like to compare several kernels. We need can use the same workflow, just by adding one line and modifying one line !!"
   ]
  },
  {
   "cell_type": "code",
   "execution_count": 6,
   "metadata": {
    "collapsed": true
   },
   "outputs": [],
   "source": [
    "gamma = 2.0**sp.arange(-4,2) # Scale of the RBF kernel"
   ]
  },
  {
   "cell_type": "code",
   "execution_count": 7,
   "metadata": {
    "collapsed": false
   },
   "outputs": [],
   "source": [
    "param_grid_svm = [dict(kernel=['rbf'],gamma=gamma, C=C),\n",
    "                  dict(kernel=['poly'],degree=degree, C=C)]"
   ]
  },
  {
   "cell_type": "markdown",
   "metadata": {},
   "source": [
    "We can now now copy/past/run the same code than previously:"
   ]
  },
  {
   "cell_type": "code",
   "execution_count": 8,
   "metadata": {
    "collapsed": false
   },
   "outputs": [
    {
     "name": "stdout",
     "output_type": "stream",
     "text": [
      "Best score: 0.9721448467966574\n",
      "Best set of hyperparameters: {'C': 10.0, 'gamma': 0.125, 'kernel': 'rbf'}\n",
      "0.972183588317\n"
     ]
    }
   ],
   "source": [
    "grid = GridSearchCV(SVC(),  # Set up the classifier\n",
    "                    param_grid=param_grid_svm, \n",
    "                    cv= 5,\n",
    "                    n_jobs=-1) # Do the grid search in parallel\n",
    "grid.fit(X_train, y_train) # Run the grid search\n",
    "print(\"Best score: {}\".format(grid.best_score_))\n",
    "print(\"Best set of hyperparameters: {}\".format(grid.best_params_))\n",
    "print\n",
    "# Learn the optimal model\n",
    "clf = grid.best_estimator_  # Get the best estimator\n",
    "clf.fit(X_train,y_train)\n",
    "\n",
    "# Predict new samples\n",
    "y_pred = clf.predict(X_test)\n",
    "\n",
    "# Compute the overall accuracies\n",
    "print(accuracy_score(y_test,y_pred))"
   ]
  },
  {
   "cell_type": "markdown",
   "metadata": {},
   "source": [
    "## Comparison of the differents classifiers\n",
    "In the course, we have discussed about three classifiers: QDA, SVM and K-NN. Using the following scripts, we are going to compare their performances on the given data sets. Again, using scikit-learn generic function, it is possible we few lines of code to run all the experiments.\n"
   ]
  },
  {
   "cell_type": "code",
   "execution_count": 9,
   "metadata": {
    "collapsed": false
   },
   "outputs": [
    {
     "name": "stdout",
     "output_type": "stream",
     "text": [
      "Classification accuracy for LDA: 0.9297635605006954\n",
      "Classification accuracy for SVM: 0.972183588317107 (best parameters {'C': 10.0, 'gamma': 0.125, 'kernel': 'rbf'})\n",
      "Classification accuracy for KNN: 0.9617524339360223 (best parameters {'n_neighbors': 1})\n",
      "Classification accuracy for QDA: 0.9652294853963839 (best parameters {'reg_param': 0.010344827586206898})\n"
     ]
    }
   ],
   "source": [
    "from sklearn.discriminant_analysis import QuadraticDiscriminantAnalysis, LinearDiscriminantAnalysis\n",
    "from sklearn.neighbors import KNeighborsClassifier\n",
    "import warnings\n",
    "warnings.filterwarnings(\"ignore\", category=UserWarning)\n",
    "\n",
    "# Define the classifier list\n",
    "classifiers = [SVC(), KNeighborsClassifier(), QuadraticDiscriminantAnalysis()]\n",
    "names = [\"SVM\", \"KNN\", \"QDA\"]\n",
    "\n",
    "# Define the dictionnary of parameters to optimize\n",
    "param_grids = [dict(kernel=['rbf'], gamma=gamma, C=C),\n",
    "               dict(n_neighbors = sp.arange(1,40)), # number of neighbors for KNN\n",
    "               dict(reg_param = sp.linspace(0,0.1,30)), # Regularization parameter for QDA\n",
    "               ]\n",
    "\n",
    "# Run LDA (no hyperparameters to tune)\n",
    "clf = LinearDiscriminantAnalysis()\n",
    "clf.fit(X_train,y_train)\n",
    "y_pred = clf.predict(X_test)\n",
    "print(\"Classification accuracy for {}: {}\".format(\"LDA\",accuracy_score(y_test,y_pred)))\n",
    "    \n",
    "# Run all classifiers\n",
    "for classifier, name, param_grid in zip(classifiers, names, param_grids):\n",
    "    grid = GridSearchCV(classifier, param_grid=param_grid, cv= 5, n_jobs=-1)\n",
    "    grid.fit(X_train, y_train)\n",
    "    \n",
    "    clf = grid.best_estimator_ \n",
    "    clf.fit(X_train,y_train)\n",
    "    \n",
    "    y_pred = clf.predict(X_test)\n",
    "    print(\"Classification accuracy for {}: {} (best parameters {})\".format(name,accuracy_score(y_test,y_pred),grid.best_params_))"
   ]
  },
  {
   "cell_type": "code",
   "execution_count": null,
   "metadata": {
    "collapsed": true
   },
   "outputs": [],
   "source": []
  },
  {
   "cell_type": "markdown",
   "metadata": {},
   "source": [
    "## Pipeline\n",
    "In the previous section, we have selected the best kernel from the polynomial and RBF one. But it is also possible to combine them using [pipeline](http://scikit-learn.org/stable/modules/generated/sklearn.pipeline.Pipeline.html#sklearn.pipeline.Pipeline) facility offer by scikit-learn. The following code does the job. To make it simple we select the best set of hyperparameters from the previous individual cross-validation. However, it is possible to search for the best combination (if we have a lot of time ...).\n",
    "\n",
    "We first define the CompositeKernel class, which is the weighted summation of the RBF and polynomial kernel."
   ]
  },
  {
   "cell_type": "code",
   "execution_count": 10,
   "metadata": {
    "collapsed": false
   },
   "outputs": [],
   "source": [
    "from sklearn.metrics.pairwise import rbf_kernel, polynomial_kernel\n",
    "from sklearn.base import BaseEstimator, TransformerMixin\n",
    "from sklearn.pipeline import Pipeline\n",
    "\n",
    "# Convenient Class for summation kernel\n",
    "class CompositeKernel(BaseEstimator,TransformerMixin):\n",
    "    def __init__(self,\n",
    "                 mu=0.5,\n",
    "                 gamma=0.125,  \n",
    "                 degree=3):\n",
    "        self.gamma = gamma\n",
    "        self.degree = degree\n",
    "        self.mu = mu\n",
    "        \n",
    "    def transform(self,X):\n",
    "        K = self.mu*rbf_kernel(X,self.X_,gamma=self.gamma)\n",
    "        K += (1-self.mu)*polynomial_kernel(X,self.X_,degree=self.degree)\n",
    "        return K\n",
    "\n",
    "    def fit(self,X,y=None, **fit_params):\n",
    "        self.X_ = X\n",
    "        return self"
   ]
  },
  {
   "cell_type": "markdown",
   "metadata": {},
   "source": [
    "Then we define the pipeline:"
   ]
  },
  {
   "cell_type": "code",
   "execution_count": 11,
   "metadata": {
    "collapsed": false
   },
   "outputs": [],
   "source": [
    "# Create a pipeline\n",
    "pipe = Pipeline([\n",
    "    ('CK',CompositeKernel()),\n",
    "    ('SVM',SVC())\n",
    "])"
   ]
  },
  {
   "cell_type": "markdown",
   "metadata": {},
   "source": [
    "Then we define the range search for the weight paramter *mu* (note that here we do not optimize the parameter of the polynomial and RBF kernels)"
   ]
  },
  {
   "cell_type": "code",
   "execution_count": 13,
   "metadata": {
    "collapsed": false
   },
   "outputs": [
    {
     "name": "stdout",
     "output_type": "stream",
     "text": [
      "Best score: 0.9749303621169917\n",
      "Best set of hyperparameters: {'CK__gamma': 0.25, 'CK__degree': 6, 'CK__mu': 0.30000000000000004, 'SVM__kernel': 'precomputed', 'SVM__C': 1.0}\n",
      "0.96314325452\n"
     ]
    }
   ],
   "source": [
    "param_grid = dict([\n",
    "    ('CK__mu', sp.linspace(0,1,num=11)),  # Note the double \"_\" to define parameters of a pipeline\n",
    "    ('CK__gamma', gamma),\n",
    "    ('CK__degree', degree),\n",
    "    ('SVM__C',C),\n",
    "    ('SVM__kernel', ['precomputed']),\n",
    "])\n",
    "grid = GridSearchCV(pipe,  # Set up the classifier -> Here we put our pipeline\n",
    "                    param_grid=param_grid, \n",
    "                    cv= 5,\n",
    "                    n_jobs=-1) # Do the grid search in parallel\n",
    "grid.fit(X_train, y_train) # Run the grid search and wait: 11*6*6*4 tuples of values to be tested !\n",
    "print(\"Best score: {}\".format(grid.best_score_))\n",
    "print(\"Best set of hyperparameters: {}\".format(grid.best_params_))\n",
    "print\n",
    "# Learn the optimal model\n",
    "clf = grid.best_estimator_  # Get the best estimator\n",
    "clf.fit(X_train,y_train)\n",
    "\n",
    "# Predict new samples\n",
    "y_pred = clf.predict(X_test)\n",
    "\n",
    "# Compute the overall accuracies\n",
    "print(accuracy_score(y_test,y_pred))"
   ]
  }
 ],
 "metadata": {
  "kernelspec": {
   "display_name": "Python 3",
   "language": "python",
   "name": "python3"
  },
  "language_info": {
   "codemirror_mode": {
    "name": "ipython",
    "version": 3
   },
   "file_extension": ".py",
   "mimetype": "text/x-python",
   "name": "python",
   "nbconvert_exporter": "python",
   "pygments_lexer": "ipython3",
   "version": "3.5.3"
  }
 },
 "nbformat": 4,
 "nbformat_minor": 2
}
