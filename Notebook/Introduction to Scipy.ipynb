{
 "cells": [
  {
   "cell_type": "markdown",
   "metadata": {},
   "source": [
    "# Introduction to Scipy\n",
    "Data analysis needs effective computational ressources to read/write and process data. Usually, the data set to be processed is a set of arrays. [Scipy](https://www.scipy.org/) (*Scientific Python*) package is a dedicated tool to operate on array efficiently. From the *FAQ*, Scipy is \"*set of open source (BSD licensed) scientific and numerical tools for Python. It currently supports special functions, integration, ordinary differential equation (ODE) solvers, gradient optimization, parallel programming tools, an expression-to-C++ compiler for fast execution, and others. A good rule of thumb is that if it’s covered in a general textbook on numerical computing (for example, the well-known Numerical Recipes series), it’s probably implemented in scipy*\". This is the core of any data analysis package in Python.\n",
    "\n",
    "The main structure provides by Scipy is the *Fixed-Type Arrays*: **ndarray**. It is an efficient way of storing data and processing them."
   ]
  },
  {
   "cell_type": "code",
   "execution_count": 1,
   "metadata": {
    "collapsed": false
   },
   "outputs": [
    {
     "name": "stdout",
     "output_type": "stream",
     "text": [
      "A = [0 1 2 3 4 5 6 7 8 9]\n",
      "B = [0 1 2 3 4 5 6 7 8 9]\n"
     ]
    }
   ],
   "source": [
    "import scipy as sp\n",
    "A = sp.array(range(10)) # Create array from a list\n",
    "print(\"A = {}\".format(A))\n",
    "B = sp.arange(10) # Create array from scratch\n",
    "print(\"B = {}\".format(B))\n",
    "sp.array?"
   ]
  },
  {
   "cell_type": "markdown",
   "metadata": {},
   "source": [
    "There are plenty of functions to create and to initialize specific array (sp.zeros, sp.ones, sp.empty ...). For each case, it is possible to define the type (int8, uint8, float64 ...) by providing the corresponding parameter. More information regarding the different array types can be found here: https://docs.scipy.org/doc/numpy-1.13.0/user/basics.types.html and https://docs.scipy.org/doc/numpy-1.13.0/reference/arrays.dtypes.html.\n",
    "\n",
    "## Basics of Arrays \n",
    "### Getting attributes"
   ]
  },
  {
   "cell_type": "code",
   "execution_count": 2,
   "metadata": {
    "collapsed": false
   },
   "outputs": [
    {
     "name": "stdout",
     "output_type": "stream",
     "text": [
      "Number of elements in A: 10\n",
      "Number of dimension of A: 1\n",
      "Dimension of A: (10,)\n",
      "Type of element in A: int64\n"
     ]
    }
   ],
   "source": [
    "# Attributes\n",
    "print(\"Number of elements in A: {}\".format(A.size))\n",
    "print(\"Number of dimension of A: {}\".format(A.ndim))\n",
    "print(\"Dimension of A: {}\".format(A.shape))\n",
    "print(\"Type of element in A: {}\".format(A.dtype))"
   ]
  },
  {
   "cell_type": "markdown",
   "metadata": {},
   "source": [
    "It is possible to modify explicitely some attributes, in particlar the *shape*:"
   ]
  },
  {
   "cell_type": "code",
   "execution_count": 3,
   "metadata": {
    "collapsed": false
   },
   "outputs": [
    {
     "name": "stdout",
     "output_type": "stream",
     "text": [
      "B = [[0 1 2 3 4]\n",
      " [5 6 7 8 9]]\n",
      "(2, 5)\n",
      "(10,)\n"
     ]
    }
   ],
   "source": [
    "B.shape = (2,5) # Change the shape to two lines, 5 columns -> the number of total elements should be the same\n",
    "print(\"B = {}\".format(B))\n",
    "C = B.reshape(10) # The function return a new array with the corresponding shape\n",
    "print(B.shape)\n",
    "print(C.shape)"
   ]
  },
  {
   "cell_type": "markdown",
   "metadata": {},
   "source": [
    "### Accessing elements"
   ]
  },
  {
   "cell_type": "code",
   "execution_count": 4,
   "metadata": {
    "collapsed": false
   },
   "outputs": [
    {
     "name": "stdout",
     "output_type": "stream",
     "text": [
      "A = [0 1 2 3 4 5 6 7 8 9]\n",
      "0\n",
      "1\n",
      "9\n",
      "8\n"
     ]
    }
   ],
   "source": [
    "print(\"A = {}\".format(A))\n",
    "print(A[0]) # First element\n",
    "print(A[1]) # Second element\n",
    "print(A[-1]) # Last element\n",
    "print(A[-2]) # Antepenultimate element"
   ]
  },
  {
   "cell_type": "code",
   "execution_count": 5,
   "metadata": {
    "collapsed": false
   },
   "outputs": [
    {
     "name": "stdout",
     "output_type": "stream",
     "text": [
      "[0 1 2]\n",
      "[0 2 4 6 8]\n",
      "[7 8]\n"
     ]
    }
   ],
   "source": [
    "# Some slicing\n",
    "print(A[0:3]) # Return an array of elements of A from the first to the third\n",
    "print(A[::2]) # All elements with a step of 2\n",
    "print(A[-3:-1]) # Can use reverse order"
   ]
  },
  {
   "cell_type": "markdown",
   "metadata": {},
   "source": [
    "## Computation on Array\n",
    "### Universal functions\n",
    "A general comment for interpreted laguage: **do not use loop if you can** ! It is slow and inefficient.\n",
    "\n",
    "The comment apply here with Python. Scipy provide a large types of operation that are optimized to work on array directly (as in Matlab, R ...). In particular, *universal functions* (ufuncs) are a set of functions for fast element-wise operations (+, -, power ...). Let see a short example:"
   ]
  },
  {
   "cell_type": "code",
   "execution_count": 6,
   "metadata": {
    "collapsed": false
   },
   "outputs": [
    {
     "name": "stdout",
     "output_type": "stream",
     "text": [
      "10 loops, best of 3: 36 ms per loop\n",
      "The slowest run took 4.10 times longer than the fastest. This could mean that an intermediate result is being cached.\n",
      "10000 loops, best of 3: 70.8 µs per loop\n"
     ]
    }
   ],
   "source": [
    "def my_add(M,N): # Suppose that A and B have the same shape\n",
    "    P = sp.empty_like(M)\n",
    "    nl, nr = M.shape\n",
    "    for i in range(nl):\n",
    "        for j in range(nr):\n",
    "            P[i,j] = M[i,j] + N[i,j]\n",
    "    return P\n",
    "\n",
    "M, N = sp.arange(100000).reshape(1000,100), sp.arange(100000).reshape(1000,100)\n",
    "%timeit my_add(M,N) # using loop\n",
    "%timeit M + N # using ufuncs equivalent to sp.add(A,B)"
   ]
  },
  {
   "cell_type": "markdown",
   "metadata": {},
   "source": [
    "Most all conventional functions exist: arithmetic, trigonometric, log/exp ... A detailed list is available here: https://docs.scipy.org/doc/numpy-1.13.0/reference/ufuncs.html"
   ]
  },
  {
   "cell_type": "markdown",
   "metadata": {},
   "source": [
    "### Reduction\n",
    "Scipy provides a set of functions to extrac values from the array itself and for some specific dimension of the array"
   ]
  },
  {
   "cell_type": "code",
   "execution_count": 7,
   "metadata": {
    "collapsed": false
   },
   "outputs": [
    {
     "name": "stdout",
     "output_type": "stream",
     "text": [
      "A = \n",
      "[[ 0.81198944  0.90650832  0.60057206  0.68846534]\n",
      " [ 0.25219227  0.11873305  0.06091525  0.70905717]\n",
      " [ 0.6715061   0.07461844  0.79535085  0.97933526]\n",
      " [ 0.67404075  0.2916964   0.64977083  0.14183319]\n",
      " [ 0.18399073  0.36103131  0.24805253  0.74455376]]\n",
      "9.96421306685\n",
      "[ 2.59371929  1.75258752  2.35466153  3.26324473]\n",
      "[ 3.00753516  1.14089774  2.52081065  1.75734118  1.53762833]\n"
     ]
    }
   ],
   "source": [
    "A = sp.random.rand(5,4)\n",
    "print(\"A = \\n{}\".format(A))\n",
    "print(A.sum()) # Sum over all element\n",
    "print(A.sum(axis=0)) # Sum over the lines: return an array of values\n",
    "print(A.sum(axis=1)) # over the columns"
   ]
  },
  {
   "cell_type": "markdown",
   "metadata": {},
   "source": [
    "Using the same convention, it is possible to get the cummulative sum (cumsum), product of element (prod, cumprod), the maximum/miniumu value (max, min) and their position (argmax, argmin) and the first and second statistical moment (mean, var/std). It is also possible to check if a condition is fullfilled for all or any elements of the array."
   ]
  },
  {
   "cell_type": "code",
   "execution_count": 8,
   "metadata": {
    "collapsed": false
   },
   "outputs": [
    {
     "data": {
      "text/plain": [
       "True"
      ]
     },
     "execution_count": 8,
     "metadata": {},
     "output_type": "execute_result"
    }
   ],
   "source": [
    "sp.any(A>0)"
   ]
  },
  {
   "cell_type": "code",
   "execution_count": 9,
   "metadata": {
    "collapsed": false
   },
   "outputs": [
    {
     "data": {
      "text/plain": [
       "False"
      ]
     },
     "execution_count": 9,
     "metadata": {},
     "output_type": "execute_result"
    }
   ],
   "source": [
    "sp.all(A>0.5)"
   ]
  },
  {
   "cell_type": "markdown",
   "metadata": {},
   "source": [
    "### Some exercices\n",
    "- Find the maximum and minimum value of A\n",
    "- Find the maximum of each line\n",
    "- Find the mean value of each row\n",
    "- Find the position of the minimum value of each row"
   ]
  },
  {
   "cell_type": "code",
   "execution_count": null,
   "metadata": {
    "collapsed": true
   },
   "outputs": [],
   "source": []
  },
  {
   "cell_type": "markdown",
   "metadata": {},
   "source": [
    "### Broadcasting\n",
    "Broadcasting allow to define efficient operations between arrays of different sizes, given some of them are compatible. An extreme example is adding a scalar to a matrix"
   ]
  },
  {
   "cell_type": "code",
   "execution_count": 10,
   "metadata": {
    "collapsed": false
   },
   "outputs": [
    {
     "data": {
      "text/plain": [
       "array([[ 3.81198944,  3.90650832,  3.60057206,  3.68846534],\n",
       "       [ 3.25219227,  3.11873305,  3.06091525,  3.70905717],\n",
       "       [ 3.6715061 ,  3.07461844,  3.79535085,  3.97933526],\n",
       "       [ 3.67404075,  3.2916964 ,  3.64977083,  3.14183319],\n",
       "       [ 3.18399073,  3.36103131,  3.24805253,  3.74455376]])"
      ]
     },
     "execution_count": 10,
     "metadata": {},
     "output_type": "execute_result"
    }
   ],
   "source": [
    "A+3"
   ]
  },
  {
   "cell_type": "markdown",
   "metadata": {},
   "source": [
    "Easy ? Now if I need to center the data, it is also super easy"
   ]
  },
  {
   "cell_type": "code",
   "execution_count": 11,
   "metadata": {
    "collapsed": false
   },
   "outputs": [
    {
     "data": {
      "text/plain": [
       "array([[ 0.29324558,  0.55599081,  0.12963976,  0.0358164 ],\n",
       "       [-0.26655159, -0.23178445, -0.41001706,  0.05640823],\n",
       "       [ 0.15276225, -0.27589906,  0.32441855,  0.32668631],\n",
       "       [ 0.15529689, -0.0588211 ,  0.17883853, -0.51081575],\n",
       "       [-0.33475313,  0.0105138 , -0.22287978,  0.09190482]])"
      ]
     },
     "execution_count": 11,
     "metadata": {},
     "output_type": "execute_result"
    }
   ],
   "source": [
    "A - A.mean(axis=0) # Suppose that each line is a sample, and each column a measurement (i.e., a variable)"
   ]
  },
  {
   "cell_type": "markdown",
   "metadata": {},
   "source": [
    "If we need to standardize the data (substract the mean and divide by the standard deviation), it can be achieved easily:"
   ]
  },
  {
   "cell_type": "code",
   "execution_count": 12,
   "metadata": {
    "collapsed": false
   },
   "outputs": [
    {
     "name": "stdout",
     "output_type": "stream",
     "text": [
      "[[ 1.1654438   1.868857    0.47539331  0.12982277]\n",
      " [-1.05935406 -0.7790992  -1.50354621  0.20446142]\n",
      " [ 0.6071219  -0.92738205  1.18965362  1.18413134]\n",
      " [ 0.61719532 -0.1977159   0.65580684 -1.85154052]\n",
      " [-1.33040696  0.03534015 -0.81730757  0.33312498]]\n"
     ]
    }
   ],
   "source": [
    "As = (A-A.mean(axis=0))/A.std(axis=0)\n",
    "print(As)"
   ]
  },
  {
   "cell_type": "markdown",
   "metadata": {},
   "source": [
    "More details about broadcasting can be found here: https://docs.scipy.org/doc/numpy-1.13.0/user/basics.broadcasting.html"
   ]
  },
  {
   "cell_type": "markdown",
   "metadata": {},
   "source": [
    "## Ploting in Python\n",
    "The package [Matplotlib](https://matplotlib.org/) offers several functions to plot data. Below an example using 2D data, more complicated plots can be constructed when needed."
   ]
  },
  {
   "cell_type": "code",
   "execution_count": 13,
   "metadata": {
    "collapsed": false
   },
   "outputs": [
    {
     "data": {
      "image/png": "[encoded data removed]",
      "text/plain": [
       "<matplotlib.figure.Figure at 0x7fa0892339b0>"
      ]
     },
     "metadata": {},
     "output_type": "display_data"
    }
   ],
   "source": [
    "%matplotlib inline\n",
    "import matplotlib.pyplot as plt\n",
    "x = sp.arange(0,10,0.01)\n",
    "y = x**2\n",
    "plt.plot(x,y)\n",
    "plt.grid()\n",
    "plt.show()"
   ]
  }
 ],
 "metadata": {
  "kernelspec": {
   "display_name": "Python 3",
   "language": "python",
   "name": "python3"
  },
  "language_info": {
   "codemirror_mode": {
    "name": "ipython",
    "version": 3
   },
   "file_extension": ".py",
   "mimetype": "text/x-python",
   "name": "python",
   "nbconvert_exporter": "python",
   "pygments_lexer": "ipython3",
   "version": "3.5.3"
  }
 },
 "nbformat": 4,
 "nbformat_minor": 2
}
